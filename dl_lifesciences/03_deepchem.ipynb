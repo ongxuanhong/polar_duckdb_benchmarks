{
 "cells": [
  {
   "cell_type": "code",
   "execution_count": null,
   "metadata": {},
   "outputs": [],
   "source": [
    "# Train a model to predict toxicity.\n",
    "import numpy as np\n",
    "import deepchem as dc"
   ]
  },
  {
   "cell_type": "code",
   "execution_count": 2,
   "metadata": {},
   "outputs": [],
   "source": [
    "# Load the data.\n",
    "tox21_tasks, tox21_datasets, transformers = dc.molnet.load_tox21()\n",
    "train_dataset, valid_dataset, test_dataset = tox21_datasets"
   ]
  },
  {
   "cell_type": "code",
   "execution_count": 3,
   "metadata": {},
   "outputs": [
    {
     "data": {
      "text/plain": [
       "((6264, 1024), (6264, 12))"
      ]
     },
     "execution_count": 3,
     "metadata": {},
     "output_type": "execute_result"
    }
   ],
   "source": [
    "train_dataset.X.shape, train_dataset.y.shape"
   ]
  },
  {
   "cell_type": "code",
   "execution_count": null,
   "metadata": {},
   "outputs": [],
   "source": [
    "# Build and train the model.\n",
    "model = dc.models.MultitaskClassifier(n_tasks=12, n_features=1024, layer_sizes=[1000])\n",
    "model.fit(train_dataset, nb_epoch=10)"
   ]
  },
  {
   "cell_type": "code",
   "execution_count": null,
   "metadata": {},
   "outputs": [],
   "source": [
    "# Evaluate it on the training and test sets.\n",
    "metric = dc.metrics.Metric(dc.metrics.roc_auc_score, np.mean)\n",
    "train_scores = model.evaluate(train_dataset, [metric], transformers)\n",
    "test_scores = model.evaluate(test_dataset, [metric], transformers)\n",
    "print(train_scores)\n",
    "print(test_scores)"
   ]
  },
  {
   "cell_type": "code",
   "execution_count": null,
   "metadata": {},
   "outputs": [],
   "source": []
  },
  {
   "cell_type": "markdown",
   "metadata": {},
   "source": [
    "# MNIST"
   ]
  },
  {
   "cell_type": "code",
   "execution_count": null,
   "metadata": {},
   "outputs": [],
   "source": [
    "# Train a model to recognize handwritten digits.\n",
    "import os\n",
    "import deepchem as dc\n",
    "import tensorflow as tf\n",
    "import tensorflow.keras.layers as layers"
   ]
  },
  {
   "cell_type": "code",
   "execution_count": 8,
   "metadata": {},
   "outputs": [],
   "source": [
    "# Load the dataset and convert the labels to one-hot.\n",
    "(x_train, y_train), (x_test, y_test) = tf.keras.datasets.mnist.load_data()\n",
    "y_train = tf.one_hot(y_train, 10).numpy()\n",
    "y_test = tf.one_hot(y_test, 10).numpy()\n",
    "train_dataset = dc.data.NumpyDataset(x_train, y_train)\n",
    "test_dataset = dc.data.NumpyDataset(x_test, y_test)"
   ]
  },
  {
   "cell_type": "code",
   "execution_count": 9,
   "metadata": {},
   "outputs": [],
   "source": [
    "# Build the model.\n",
    "features = tf.keras.Input(shape=(28, 28, 1))\n",
    "conv2d_1 = layers.Conv2D(filters=32, kernel_size=5, activation=tf.nn.relu)(features)\n",
    "conv2d_2 = layers.Conv2D(filters=64, kernel_size=5, activation=tf.nn.relu)(conv2d_1)\n",
    "flatten = layers.Flatten()(conv2d_2)\n",
    "dense1 = layers.Dense(units=1024, activation=tf.nn.relu)(flatten)\n",
    "dense2 = layers.Dense(units=10, activation=None)(dense1)\n",
    "output = layers.Activation(tf.math.softmax)(dense2)\n",
    "keras_model = tf.keras.Model(inputs=features, outputs=[output, dense2])\n",
    "\n",
    "model = dc.models.KerasModel(\n",
    "    keras_model,\n",
    "    loss=dc.models.losses.SoftmaxCrossEntropy(),\n",
    "    output_types=['prediction', 'loss'],\n",
    "    model_dir='mnist')"
   ]
  },
  {
   "cell_type": "code",
   "execution_count": null,
   "metadata": {},
   "outputs": [],
   "source": [
    "# Train the model.\n",
    "os.environ[\"TF_USE_LEGACY_KERAS\"] = \"True\"\n",
    "model.fit(train_dataset, nb_epoch=10)"
   ]
  },
  {
   "cell_type": "code",
   "execution_count": null,
   "metadata": {},
   "outputs": [],
   "source": [
    "# Evaluate it on the training and test sets.\n",
    "metric = dc.metrics.Metric(dc.metrics.accuracy_score)\n",
    "train_scores = model.evaluate(train_dataset, [metric])\n",
    "test_scores = model.evaluate(test_dataset, [metric])\n",
    "print(train_scores)\n",
    "print(test_scores)"
   ]
  }
 ],
 "metadata": {
  "kernelspec": {
   "display_name": "polar_duckdb_benchmarks",
   "language": "python",
   "name": "python3"
  },
  "language_info": {
   "codemirror_mode": {
    "name": "ipython",
    "version": 3
   },
   "file_extension": ".py",
   "mimetype": "text/x-python",
   "name": "python",
   "nbconvert_exporter": "python",
   "pygments_lexer": "ipython3",
   "version": "3.9.19"
  }
 },
 "nbformat": 4,
 "nbformat_minor": 2
}
