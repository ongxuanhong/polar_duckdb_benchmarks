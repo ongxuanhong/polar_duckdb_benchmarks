{
 "cells": [
  {
   "cell_type": "code",
   "execution_count": 1,
   "metadata": {},
   "outputs": [
    {
     "name": "stderr",
     "output_type": "stream",
     "text": [
      "c:\\Users\\predator\\anaconda3\\envs\\polar_duckdb_benchmarks\\lib\\site-packages\\tqdm\\auto.py:21: TqdmWarning: IProgress not found. Please update jupyter and ipywidgets. See https://ipywidgets.readthedocs.io/en/stable/user_install.html\n",
      "  from .autonotebook import tqdm as notebook_tqdm\n"
     ]
    }
   ],
   "source": [
    "import deepchem as dc\n",
    "from deepchem.models import GraphConvModel\n",
    "import numpy as np\n",
    "import sys\n",
    "import pandas as pd\n",
    "import seaborn as sns\n",
    "from rdkit.Chem import PandasTools\n",
    "from tqdm.auto import tqdm"
   ]
  },
  {
   "cell_type": "code",
   "execution_count": 2,
   "metadata": {},
   "outputs": [],
   "source": [
    "def generate_graph_conv_model():\n",
    "    batch_size = 128\n",
    "    model = GraphConvModel(1, batch_size=batch_size, mode='classification', model_dir=\"./model_dir\")\n",
    "    return model"
   ]
  },
  {
   "cell_type": "code",
   "execution_count": 3,
   "metadata": {},
   "outputs": [],
   "source": [
    "dataset_file = \"dude_erk1_mk01.csv\"\n",
    "tasks = [\"is_active\"]\n",
    "featurizer = dc.feat.ConvMolFeaturizer()\n",
    "loader = dc.data.CSVLoader(tasks=tasks, feature_field=\"SMILES\", featurizer=featurizer)\n",
    "dataset = loader.create_dataset(dataset_file, shard_size=8192)"
   ]
  },
  {
   "cell_type": "code",
   "execution_count": 4,
   "metadata": {},
   "outputs": [],
   "source": [
    "splitter = dc.splits.RandomSplitter()\n",
    "metrics = [dc.metrics.Metric(dc.metrics.matthews_corrcoef, np.mean)]\n"
   ]
  },
  {
   "cell_type": "code",
   "execution_count": 5,
   "metadata": {},
   "outputs": [
    {
     "name": "stderr",
     "output_type": "stream",
     "text": [
      "100%|██████████| 10/10 [04:49<00:00, 28.90s/it]"
     ]
    },
    {
     "name": "stdout",
     "output_type": "stream",
     "text": [
      "[0.9595996558351719, 0.5924380262765028, 0.8325611058924068, 0.41829241657710053, 0.24411109159631952, 0.34541202665695525, 0.8208036433031983, 0.5048215863774402, 0.726672010332264, 0.9234043274855804]\n",
      "[1.0, 0.531615869110444, 1.0, 0.0, 0.37550213752729766, 0.0, 0.4678118373451869, 0.5435391270264687, 0.813812201341186, 1.0]\n"
     ]
    },
    {
     "name": "stderr",
     "output_type": "stream",
     "text": [
      "\n"
     ]
    }
   ],
   "source": [
    "training_score_list = []\n",
    "validation_score_list = []\n",
    "transformers = []\n",
    "cv_folds = 10\n",
    "for i in tqdm(range(0,cv_folds)):\n",
    "    model = generate_graph_conv_model()\n",
    "    train_dataset, valid_dataset, test_dataset = splitter.train_valid_test_split(dataset)\n",
    "    model.fit(train_dataset)\n",
    "    train_scores = model.evaluate(train_dataset, metrics, transformers)\n",
    "    training_score_list.append(train_scores[\"mean-matthews_corrcoef\"])\n",
    "    validation_scores = model.evaluate(valid_dataset, metrics, transformers)\n",
    "    validation_score_list.append(validation_scores[\"mean-matthews_corrcoef\"])\n",
    "print(training_score_list)\n",
    "print(validation_score_list)"
   ]
  },
  {
   "cell_type": "code",
   "execution_count": 6,
   "metadata": {},
   "outputs": [
    {
     "data": {
      "image/png": "[encoded data removed]",
      "text/plain": [
       "<Figure size 640x480 with 1 Axes>"
      ]
     },
     "metadata": {},
     "output_type": "display_data"
    }
   ],
   "source": [
    "sns.boxplot(x=[\"training\"]*cv_folds+[\"validation\"]*cv_folds,y=training_score_list+validation_score_list);\n"
   ]
  },
  {
   "cell_type": "code",
   "execution_count": 7,
   "metadata": {},
   "outputs": [
    {
     "data": {
      "text/plain": [
       "[array([0.9944132 , 0.00558678], dtype=float32),\n",
       " array([9.9962842e-01, 3.7152725e-04], dtype=float32),\n",
       " array([0.99584085, 0.00415916], dtype=float32),\n",
       " array([9.9990797e-01, 9.1989416e-05], dtype=float32),\n",
       " array([9.9964082e-01, 3.5920631e-04], dtype=float32),\n",
       " array([9.9970335e-01, 2.9662548e-04], dtype=float32),\n",
       " array([9.9959248e-01, 4.0753448e-04], dtype=float32),\n",
       " array([0.9582773 , 0.04172266], dtype=float32),\n",
       " array([0.9972397 , 0.00276032], dtype=float32),\n",
       " array([0.9978654 , 0.00213459], dtype=float32)]"
      ]
     },
     "execution_count": 7,
     "metadata": {},
     "output_type": "execute_result"
    }
   ],
   "source": [
    "pred = [x.flatten() for x in model.predict(valid_dataset)]\n",
    "pred[:10]"
   ]
  },
  {
   "cell_type": "code",
   "execution_count": 8,
   "metadata": {},
   "outputs": [],
   "source": [
    "# put our predicted results into a Pandas dataframe.\n",
    "pred_df = pd.DataFrame(pred,columns=[\"neg\",\"pos\"])\n",
    "pred_df[\"active\"] = [int(x) for x in valid_dataset.y]\n",
    "pred_df[\"SMILES\"] = valid_dataset.ids"
   ]
  },
  {
   "cell_type": "code",
   "execution_count": 9,
   "metadata": {},
   "outputs": [
    {
     "data": {
      "text/html": [
       "<div>\n",
       "<style scoped>\n",
       "    .dataframe tbody tr th:only-of-type {\n",
       "        vertical-align: middle;\n",
       "    }\n",
       "\n",
       "    .dataframe tbody tr th {\n",
       "        vertical-align: top;\n",
       "    }\n",
       "\n",
       "    .dataframe thead th {\n",
       "        text-align: right;\n",
       "    }\n",
       "</style>\n",
       "<table border=\"1\" class=\"dataframe\">\n",
       "  <thead>\n",
       "    <tr style=\"text-align: right;\">\n",
       "      <th></th>\n",
       "      <th>neg</th>\n",
       "      <th>pos</th>\n",
       "      <th>active</th>\n",
       "      <th>SMILES</th>\n",
       "    </tr>\n",
       "  </thead>\n",
       "  <tbody>\n",
       "    <tr>\n",
       "      <th>40</th>\n",
       "      <td>0.036782</td>\n",
       "      <td>0.963218</td>\n",
       "      <td>1</td>\n",
       "      <td>c1cc(cc(c1)Cl)c2cn[nH]c2c3cc([nH]c3)C(=O)NC(CO...</td>\n",
       "    </tr>\n",
       "    <tr>\n",
       "      <th>415</th>\n",
       "      <td>0.049328</td>\n",
       "      <td>0.950672</td>\n",
       "      <td>1</td>\n",
       "      <td>c1cc(cc(c1)Cl)c2cn[nH]c2c3cc([nH]c3)C(=O)NC(CO...</td>\n",
       "    </tr>\n",
       "    <tr>\n",
       "      <th>60</th>\n",
       "      <td>0.061831</td>\n",
       "      <td>0.938169</td>\n",
       "      <td>1</td>\n",
       "      <td>c1cc(cc(c1)Cl)c2cn[nH]c2c3cc([nH]c3)C(=O)NCc4c...</td>\n",
       "    </tr>\n",
       "    <tr>\n",
       "      <th>23</th>\n",
       "      <td>0.103576</td>\n",
       "      <td>0.896424</td>\n",
       "      <td>1</td>\n",
       "      <td>Cc1ccccc1Nc2ncc(c(n2)c3cc([nH]c3)C(=O)N[C@H](C...</td>\n",
       "    </tr>\n",
       "    <tr>\n",
       "      <th>203</th>\n",
       "      <td>0.122877</td>\n",
       "      <td>0.877123</td>\n",
       "      <td>1</td>\n",
       "      <td>c1ccc(c(c1)C(CO)NC(=O)c2cc(c[nH]2)c3c(cn[nH]3)...</td>\n",
       "    </tr>\n",
       "    <tr>\n",
       "      <th>34</th>\n",
       "      <td>0.372575</td>\n",
       "      <td>0.627425</td>\n",
       "      <td>1</td>\n",
       "      <td>c1cc(cc(c1)Cl)c2cn[nH]c2c3cc([nH]c3)C(=O)N4CCCC4</td>\n",
       "    </tr>\n",
       "    <tr>\n",
       "      <th>327</th>\n",
       "      <td>0.834687</td>\n",
       "      <td>0.165313</td>\n",
       "      <td>0</td>\n",
       "      <td>c1ccc(cc1)c2c3ccccc3[nH]c(=O)c2Sc4[nH]ncn4</td>\n",
       "    </tr>\n",
       "    <tr>\n",
       "      <th>253</th>\n",
       "      <td>0.899184</td>\n",
       "      <td>0.100816</td>\n",
       "      <td>0</td>\n",
       "      <td>CC(C)CNC(=O)c1cccc(c1)NCc2c3ccccc3ccc2OCC(=O)N</td>\n",
       "    </tr>\n",
       "    <tr>\n",
       "      <th>354</th>\n",
       "      <td>0.926389</td>\n",
       "      <td>0.073611</td>\n",
       "      <td>0</td>\n",
       "      <td>CSc1cc(ccc1NC(=O)Nc2ccc(c(c2)C(F)(F)F)Cl)Oc3cc...</td>\n",
       "    </tr>\n",
       "    <tr>\n",
       "      <th>150</th>\n",
       "      <td>0.945535</td>\n",
       "      <td>0.054465</td>\n",
       "      <td>0</td>\n",
       "      <td>C[C@@H]1C[C@@H](C)CN(C(C)(C)CNC(=O)c2ccc3c(O)[...</td>\n",
       "    </tr>\n",
       "    <tr>\n",
       "      <th>191</th>\n",
       "      <td>0.948990</td>\n",
       "      <td>0.051009</td>\n",
       "      <td>0</td>\n",
       "      <td>c1cc(c(cc1Nc2c(c(ncn2)N3CCCCCC3)N)C(F)(F)F)Cl</td>\n",
       "    </tr>\n",
       "    <tr>\n",
       "      <th>174</th>\n",
       "      <td>0.949553</td>\n",
       "      <td>0.050447</td>\n",
       "      <td>0</td>\n",
       "      <td>COc1cc(ccc1O)[C@H]2CC(=Nc3c2ncn3c4cc(cc(c4)F)F)O</td>\n",
       "    </tr>\n",
       "    <tr>\n",
       "      <th>444</th>\n",
       "      <td>0.952185</td>\n",
       "      <td>0.047815</td>\n",
       "      <td>0</td>\n",
       "      <td>CC[C@@]1(C(=O)N(C(=O)N1)NC(=O)C[C@@H](C)NC(=O)...</td>\n",
       "    </tr>\n",
       "    <tr>\n",
       "      <th>7</th>\n",
       "      <td>0.958277</td>\n",
       "      <td>0.041723</td>\n",
       "      <td>0</td>\n",
       "      <td>CC1(Cc2c(sc3c2c(nc(n3)NN)NN)CO1)C</td>\n",
       "    </tr>\n",
       "    <tr>\n",
       "      <th>346</th>\n",
       "      <td>0.959443</td>\n",
       "      <td>0.040557</td>\n",
       "      <td>0</td>\n",
       "      <td>COc1cc(ccc1O)/C=N/n\\2c(cs/c2=N\\C3CC3)c4ccc(c(c...</td>\n",
       "    </tr>\n",
       "    <tr>\n",
       "      <th>430</th>\n",
       "      <td>0.961365</td>\n",
       "      <td>0.038635</td>\n",
       "      <td>0</td>\n",
       "      <td>CCOP(=O)(Nc1ccc-2c(c1)/C(=N/NC(=S)N)/c3c2cccc3...</td>\n",
       "    </tr>\n",
       "    <tr>\n",
       "      <th>308</th>\n",
       "      <td>0.962375</td>\n",
       "      <td>0.037625</td>\n",
       "      <td>0</td>\n",
       "      <td>CC1=C([C@@H](NC(=O)N1)c2ccc(cc2)C(F)(F)F)C(=O)...</td>\n",
       "    </tr>\n",
       "    <tr>\n",
       "      <th>42</th>\n",
       "      <td>0.964199</td>\n",
       "      <td>0.035802</td>\n",
       "      <td>0</td>\n",
       "      <td>c1ccc2cc(ccc2c1)c3c(c4ccccc4[nH]3)[C@H]5c6cccc...</td>\n",
       "    </tr>\n",
       "    <tr>\n",
       "      <th>182</th>\n",
       "      <td>0.967208</td>\n",
       "      <td>0.032792</td>\n",
       "      <td>0</td>\n",
       "      <td>c1cc2ccc(c(c2nc1)O)[C@@H](c3ccc(cc3)F)Nc4ccc(c...</td>\n",
       "    </tr>\n",
       "    <tr>\n",
       "      <th>295</th>\n",
       "      <td>0.967522</td>\n",
       "      <td>0.032478</td>\n",
       "      <td>0</td>\n",
       "      <td>CCOC(=O)c1c2cc3c(c(c2oc1N)c4ccc(cc4)Cl)c(c(o3)...</td>\n",
       "    </tr>\n",
       "    <tr>\n",
       "      <th>108</th>\n",
       "      <td>0.969271</td>\n",
       "      <td>0.030730</td>\n",
       "      <td>0</td>\n",
       "      <td>CCOc1ccc(C[C@H]2c3cc(OCC)c(OCC)cc3CCN2C(=O)CN2...</td>\n",
       "    </tr>\n",
       "    <tr>\n",
       "      <th>192</th>\n",
       "      <td>0.970861</td>\n",
       "      <td>0.029139</td>\n",
       "      <td>0</td>\n",
       "      <td>C[C@H](C(=O)Nc1ccc(cc1)C(F)(F)F)Nc2cccc(c2)N3C...</td>\n",
       "    </tr>\n",
       "    <tr>\n",
       "      <th>416</th>\n",
       "      <td>0.972253</td>\n",
       "      <td>0.027747</td>\n",
       "      <td>0</td>\n",
       "      <td>c1ccc(c(c1)c2ccc(c(c2Br)c3ccccc3O)[C@@H](CC=O)...</td>\n",
       "    </tr>\n",
       "    <tr>\n",
       "      <th>218</th>\n",
       "      <td>0.973031</td>\n",
       "      <td>0.026969</td>\n",
       "      <td>0</td>\n",
       "      <td>COC(=O)c1c2cc3c(c(c2oc1N)c4ccc(cc4)Cl)c(c(o3)N...</td>\n",
       "    </tr>\n",
       "    <tr>\n",
       "      <th>113</th>\n",
       "      <td>0.978580</td>\n",
       "      <td>0.021420</td>\n",
       "      <td>0</td>\n",
       "      <td>c1ccc2c(c1)[C@@]3(CC(=O)Nc4c3cnn4c5ccc(cc5)Cl)...</td>\n",
       "    </tr>\n",
       "  </tbody>\n",
       "</table>\n",
       "</div>"
      ],
      "text/plain": [
       "          neg       pos  active  \\\n",
       "40   0.036782  0.963218       1   \n",
       "415  0.049328  0.950672       1   \n",
       "60   0.061831  0.938169       1   \n",
       "23   0.103576  0.896424       1   \n",
       "203  0.122877  0.877123       1   \n",
       "34   0.372575  0.627425       1   \n",
       "327  0.834687  0.165313       0   \n",
       "253  0.899184  0.100816       0   \n",
       "354  0.926389  0.073611       0   \n",
       "150  0.945535  0.054465       0   \n",
       "191  0.948990  0.051009       0   \n",
       "174  0.949553  0.050447       0   \n",
       "444  0.952185  0.047815       0   \n",
       "7    0.958277  0.041723       0   \n",
       "346  0.959443  0.040557       0   \n",
       "430  0.961365  0.038635       0   \n",
       "308  0.962375  0.037625       0   \n",
       "42   0.964199  0.035802       0   \n",
       "182  0.967208  0.032792       0   \n",
       "295  0.967522  0.032478       0   \n",
       "108  0.969271  0.030730       0   \n",
       "192  0.970861  0.029139       0   \n",
       "416  0.972253  0.027747       0   \n",
       "218  0.973031  0.026969       0   \n",
       "113  0.978580  0.021420       0   \n",
       "\n",
       "                                                SMILES  \n",
       "40   c1cc(cc(c1)Cl)c2cn[nH]c2c3cc([nH]c3)C(=O)NC(CO...  \n",
       "415  c1cc(cc(c1)Cl)c2cn[nH]c2c3cc([nH]c3)C(=O)NC(CO...  \n",
       "60   c1cc(cc(c1)Cl)c2cn[nH]c2c3cc([nH]c3)C(=O)NCc4c...  \n",
       "23   Cc1ccccc1Nc2ncc(c(n2)c3cc([nH]c3)C(=O)N[C@H](C...  \n",
       "203  c1ccc(c(c1)C(CO)NC(=O)c2cc(c[nH]2)c3c(cn[nH]3)...  \n",
       "34    c1cc(cc(c1)Cl)c2cn[nH]c2c3cc([nH]c3)C(=O)N4CCCC4  \n",
       "327         c1ccc(cc1)c2c3ccccc3[nH]c(=O)c2Sc4[nH]ncn4  \n",
       "253     CC(C)CNC(=O)c1cccc(c1)NCc2c3ccccc3ccc2OCC(=O)N  \n",
       "354  CSc1cc(ccc1NC(=O)Nc2ccc(c(c2)C(F)(F)F)Cl)Oc3cc...  \n",
       "150  C[C@@H]1C[C@@H](C)CN(C(C)(C)CNC(=O)c2ccc3c(O)[...  \n",
       "191      c1cc(c(cc1Nc2c(c(ncn2)N3CCCCCC3)N)C(F)(F)F)Cl  \n",
       "174   COc1cc(ccc1O)[C@H]2CC(=Nc3c2ncn3c4cc(cc(c4)F)F)O  \n",
       "444  CC[C@@]1(C(=O)N(C(=O)N1)NC(=O)C[C@@H](C)NC(=O)...  \n",
       "7                    CC1(Cc2c(sc3c2c(nc(n3)NN)NN)CO1)C  \n",
       "346  COc1cc(ccc1O)/C=N/n\\2c(cs/c2=N\\C3CC3)c4ccc(c(c...  \n",
       "430  CCOP(=O)(Nc1ccc-2c(c1)/C(=N/NC(=S)N)/c3c2cccc3...  \n",
       "308  CC1=C([C@@H](NC(=O)N1)c2ccc(cc2)C(F)(F)F)C(=O)...  \n",
       "42   c1ccc2cc(ccc2c1)c3c(c4ccccc4[nH]3)[C@H]5c6cccc...  \n",
       "182  c1cc2ccc(c(c2nc1)O)[C@@H](c3ccc(cc3)F)Nc4ccc(c...  \n",
       "295  CCOC(=O)c1c2cc3c(c(c2oc1N)c4ccc(cc4)Cl)c(c(o3)...  \n",
       "108  CCOc1ccc(C[C@H]2c3cc(OCC)c(OCC)cc3CCN2C(=O)CN2...  \n",
       "192  C[C@H](C(=O)Nc1ccc(cc1)C(F)(F)F)Nc2cccc(c2)N3C...  \n",
       "416  c1ccc(c(c1)c2ccc(c(c2Br)c3ccccc3O)[C@@H](CC=O)...  \n",
       "218  COC(=O)c1c2cc3c(c(c2oc1N)c4ccc(cc4)Cl)c(c(o3)N...  \n",
       "113  c1ccc2c(c1)[C@@]3(CC(=O)Nc4c3cnn4c5ccc(cc5)Cl)...  "
      ]
     },
     "execution_count": 9,
     "metadata": {},
     "output_type": "execute_result"
    }
   ],
   "source": [
    "pred_df.sort_values(\"pos\",ascending=False).head(25)\n"
   ]
  },
  {
   "cell_type": "code",
   "execution_count": 10,
   "metadata": {},
   "outputs": [
    {
     "data": {
      "text/plain": [
       "<AxesSubplot:xlabel='active', ylabel='pos'>"
      ]
     },
     "execution_count": 10,
     "metadata": {},
     "output_type": "execute_result"
    },
    {
     "data": {
      "image/png": "[encoded data removed]",
      "text/plain": [
       "<Figure size 640x480 with 1 Axes>"
      ]
     },
     "metadata": {},
     "output_type": "display_data"
    }
   ],
   "source": [
    "sns.boxplot(x=pred_df.active,y=pred_df.pos)"
   ]
  },
  {
   "cell_type": "code",
   "execution_count": null,
   "metadata": {},
   "outputs": [],
   "source": []
  }
 ],
 "metadata": {
  "kernelspec": {
   "display_name": "polar_duckdb_benchmarks",
   "language": "python",
   "name": "python3"
  },
  "language_info": {
   "codemirror_mode": {
    "name": "ipython",
    "version": 3
   },
   "file_extension": ".py",
   "mimetype": "text/x-python",
   "name": "python",
   "nbconvert_exporter": "python",
   "pygments_lexer": "ipython3",
   "version": "3.7.12"
  }
 },
 "nbformat": 4,
 "nbformat_minor": 2
}
