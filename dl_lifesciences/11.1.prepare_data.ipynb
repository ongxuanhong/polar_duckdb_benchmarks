{
 "cells": [
  {
   "cell_type": "code",
   "execution_count": 1,
   "metadata": {},
   "outputs": [],
   "source": [
    "from rdkit import Chem\n",
    "from rdkit.Chem import Draw\n",
    "from rdkit.Chem.Draw import IPythonConsole\n",
    "import pandas as pd\n",
    "from rdkit.Chem import PandasTools\n",
    "from rdkit.Chem import Descriptors\n",
    "from rdkit.Chem import rdmolops\n",
    "import seaborn as sns"
   ]
  },
  {
   "cell_type": "markdown",
   "metadata": {},
   "source": [
    "# Data preprocessing"
   ]
  },
  {
   "cell_type": "code",
   "execution_count": 2,
   "metadata": {},
   "outputs": [
    {
     "data": {
      "text/html": [
       "<div>\n",
       "<style scoped>\n",
       "    .dataframe tbody tr th:only-of-type {\n",
       "        vertical-align: middle;\n",
       "    }\n",
       "\n",
       "    .dataframe tbody tr th {\n",
       "        vertical-align: top;\n",
       "    }\n",
       "\n",
       "    .dataframe thead th {\n",
       "        text-align: right;\n",
       "    }\n",
       "</style>\n",
       "<table border=\"1\" class=\"dataframe\">\n",
       "  <thead>\n",
       "    <tr style=\"text-align: right;\">\n",
       "      <th></th>\n",
       "      <th>SMILES</th>\n",
       "      <th>ID</th>\n",
       "      <th>ChEMBL_ID</th>\n",
       "      <th>label</th>\n",
       "    </tr>\n",
       "  </thead>\n",
       "  <tbody>\n",
       "    <tr>\n",
       "      <th>0</th>\n",
       "      <td>Cn1ccnc1Sc2ccc(cc2Cl)Nc3c4cc(c(cc4ncc3C#N)OCCC...</td>\n",
       "      <td>168691</td>\n",
       "      <td>CHEMBL318804</td>\n",
       "      <td>Active</td>\n",
       "    </tr>\n",
       "    <tr>\n",
       "      <th>1</th>\n",
       "      <td>C[C@@]12[C@@H]([C@@H](CC(O1)n3c4ccccc4c5c3c6n2...</td>\n",
       "      <td>86358</td>\n",
       "      <td>CHEMBL162</td>\n",
       "      <td>Active</td>\n",
       "    </tr>\n",
       "    <tr>\n",
       "      <th>2</th>\n",
       "      <td>Cc1cnc(nc1c2cc([nH]c2)C(=O)N[C@H](CO)c3cccc(c3...</td>\n",
       "      <td>575087</td>\n",
       "      <td>CHEMBL576683</td>\n",
       "      <td>Active</td>\n",
       "    </tr>\n",
       "    <tr>\n",
       "      <th>3</th>\n",
       "      <td>Cc1cnc(nc1c2cc([nH]c2)C(=O)N[C@H](CO)c3cccc(c3...</td>\n",
       "      <td>575065</td>\n",
       "      <td>CHEMBL571484</td>\n",
       "      <td>Active</td>\n",
       "    </tr>\n",
       "    <tr>\n",
       "      <th>4</th>\n",
       "      <td>Cc1cnc(nc1c2cc([nH]c2)C(=O)N[C@H](CO)c3cccc(c3...</td>\n",
       "      <td>575047</td>\n",
       "      <td>CHEMBL568937</td>\n",
       "      <td>Active</td>\n",
       "    </tr>\n",
       "  </tbody>\n",
       "</table>\n",
       "</div>"
      ],
      "text/plain": [
       "                                              SMILES      ID     ChEMBL_ID  \\\n",
       "0  Cn1ccnc1Sc2ccc(cc2Cl)Nc3c4cc(c(cc4ncc3C#N)OCCC...  168691  CHEMBL318804   \n",
       "1  C[C@@]12[C@@H]([C@@H](CC(O1)n3c4ccccc4c5c3c6n2...   86358     CHEMBL162   \n",
       "2  Cc1cnc(nc1c2cc([nH]c2)C(=O)N[C@H](CO)c3cccc(c3...  575087  CHEMBL576683   \n",
       "3  Cc1cnc(nc1c2cc([nH]c2)C(=O)N[C@H](CO)c3cccc(c3...  575065  CHEMBL571484   \n",
       "4  Cc1cnc(nc1c2cc([nH]c2)C(=O)N[C@H](CO)c3cccc(c3...  575047  CHEMBL568937   \n",
       "\n",
       "    label  \n",
       "0  Active  \n",
       "1  Active  \n",
       "2  Active  \n",
       "3  Active  \n",
       "4  Active  "
      ]
     },
     "execution_count": 2,
     "metadata": {},
     "output_type": "execute_result"
    }
   ],
   "source": [
    "# read a SMILES file into a Pandas dataframe and add an RDKit molecule to the dataframe.\n",
    "active_df = pd.read_csv(\"mk01/actives_final.ism\", header=None, sep=\" \")\n",
    "active_rows, active_cols = active_df.shape\n",
    "active_df.columns = [\"SMILES\", \"ID\", \"ChEMBL_ID\"]\n",
    "active_df[\"label\"] = [\"Active\"] * active_rows\n",
    "active_df.head()"
   ]
  },
  {
   "cell_type": "code",
   "execution_count": 3,
   "metadata": {},
   "outputs": [],
   "source": [
    "PandasTools.AddMoleculeColumnToFrame(active_df, \"SMILES\", \"Mol\")"
   ]
  },
  {
   "cell_type": "code",
   "execution_count": 4,
   "metadata": {},
   "outputs": [],
   "source": [
    "# caculated properties\n",
    "def add_property_columns_to_df(df_in):\n",
    "    df_in[\"mw\"] = [Descriptors.MolWt(mol) for mol in df_in.Mol]\n",
    "    df_in[\"logP\"] = [Descriptors.MolLogP(mol) for mol in df_in.Mol]\n",
    "    df_in[\"charge\"] = [rdmolops.GetFormalCharge(mol) for mol in df_in.Mol]"
   ]
  },
  {
   "cell_type": "code",
   "execution_count": 5,
   "metadata": {},
   "outputs": [
    {
     "data": {
      "text/html": [
       "<div>\n",
       "<style scoped>\n",
       "    .dataframe tbody tr th:only-of-type {\n",
       "        vertical-align: middle;\n",
       "    }\n",
       "\n",
       "    .dataframe tbody tr th {\n",
       "        vertical-align: top;\n",
       "    }\n",
       "\n",
       "    .dataframe thead th {\n",
       "        text-align: right;\n",
       "    }\n",
       "</style>\n",
       "<table border=\"1\" class=\"dataframe\">\n",
       "  <thead>\n",
       "    <tr style=\"text-align: right;\">\n",
       "      <th></th>\n",
       "      <th>SMILES</th>\n",
       "      <th>ID</th>\n",
       "      <th>ChEMBL_ID</th>\n",
       "      <th>label</th>\n",
       "      <th>Mol</th>\n",
       "      <th>mw</th>\n",
       "      <th>logP</th>\n",
       "      <th>charge</th>\n",
       "    </tr>\n",
       "  </thead>\n",
       "  <tbody>\n",
       "    <tr>\n",
       "      <th>0</th>\n",
       "      <td>Cn1ccnc1Sc2ccc(cc2Cl)Nc3c4cc(c(cc4ncc3C#N)OCCC...</td>\n",
       "      <td>168691</td>\n",
       "      <td>CHEMBL318804</td>\n",
       "      <td>Active</td>\n",
       "      <td>&lt;rdkit.Chem.rdchem.Mol object at 0x00000125452...</td>\n",
       "      <td>565.099</td>\n",
       "      <td>5.49788</td>\n",
       "      <td>0</td>\n",
       "    </tr>\n",
       "    <tr>\n",
       "      <th>1</th>\n",
       "      <td>C[C@@]12[C@@H]([C@@H](CC(O1)n3c4ccccc4c5c3c6n2...</td>\n",
       "      <td>86358</td>\n",
       "      <td>CHEMBL162</td>\n",
       "      <td>Active</td>\n",
       "      <td>&lt;rdkit.Chem.rdchem.Mol object at 0x00000125452...</td>\n",
       "      <td>466.541</td>\n",
       "      <td>4.35400</td>\n",
       "      <td>0</td>\n",
       "    </tr>\n",
       "    <tr>\n",
       "      <th>2</th>\n",
       "      <td>Cc1cnc(nc1c2cc([nH]c2)C(=O)N[C@H](CO)c3cccc(c3...</td>\n",
       "      <td>575087</td>\n",
       "      <td>CHEMBL576683</td>\n",
       "      <td>Active</td>\n",
       "      <td>&lt;rdkit.Chem.rdchem.Mol object at 0x00000125452...</td>\n",
       "      <td>527.915</td>\n",
       "      <td>4.96202</td>\n",
       "      <td>0</td>\n",
       "    </tr>\n",
       "    <tr>\n",
       "      <th>3</th>\n",
       "      <td>Cc1cnc(nc1c2cc([nH]c2)C(=O)N[C@H](CO)c3cccc(c3...</td>\n",
       "      <td>575065</td>\n",
       "      <td>CHEMBL571484</td>\n",
       "      <td>Active</td>\n",
       "      <td>&lt;rdkit.Chem.rdchem.Mol object at 0x00000125452...</td>\n",
       "      <td>491.935</td>\n",
       "      <td>4.36922</td>\n",
       "      <td>0</td>\n",
       "    </tr>\n",
       "    <tr>\n",
       "      <th>4</th>\n",
       "      <td>Cc1cnc(nc1c2cc([nH]c2)C(=O)N[C@H](CO)c3cccc(c3...</td>\n",
       "      <td>575047</td>\n",
       "      <td>CHEMBL568937</td>\n",
       "      <td>Active</td>\n",
       "      <td>&lt;rdkit.Chem.rdchem.Mol object at 0x00000125452...</td>\n",
       "      <td>487.991</td>\n",
       "      <td>5.12922</td>\n",
       "      <td>0</td>\n",
       "    </tr>\n",
       "  </tbody>\n",
       "</table>\n",
       "</div>"
      ],
      "text/plain": [
       "                                              SMILES      ID     ChEMBL_ID  \\\n",
       "0  Cn1ccnc1Sc2ccc(cc2Cl)Nc3c4cc(c(cc4ncc3C#N)OCCC...  168691  CHEMBL318804   \n",
       "1  C[C@@]12[C@@H]([C@@H](CC(O1)n3c4ccccc4c5c3c6n2...   86358     CHEMBL162   \n",
       "2  Cc1cnc(nc1c2cc([nH]c2)C(=O)N[C@H](CO)c3cccc(c3...  575087  CHEMBL576683   \n",
       "3  Cc1cnc(nc1c2cc([nH]c2)C(=O)N[C@H](CO)c3cccc(c3...  575065  CHEMBL571484   \n",
       "4  Cc1cnc(nc1c2cc([nH]c2)C(=O)N[C@H](CO)c3cccc(c3...  575047  CHEMBL568937   \n",
       "\n",
       "    label                                                Mol       mw  \\\n",
       "0  Active  <rdkit.Chem.rdchem.Mol object at 0x00000125452...  565.099   \n",
       "1  Active  <rdkit.Chem.rdchem.Mol object at 0x00000125452...  466.541   \n",
       "2  Active  <rdkit.Chem.rdchem.Mol object at 0x00000125452...  527.915   \n",
       "3  Active  <rdkit.Chem.rdchem.Mol object at 0x00000125452...  491.935   \n",
       "4  Active  <rdkit.Chem.rdchem.Mol object at 0x00000125452...  487.991   \n",
       "\n",
       "      logP  charge  \n",
       "0  5.49788       0  \n",
       "1  4.35400       0  \n",
       "2  4.96202       0  \n",
       "3  4.36922       0  \n",
       "4  5.12922       0  "
      ]
     },
     "execution_count": 5,
     "metadata": {},
     "output_type": "execute_result"
    }
   ],
   "source": [
    "add_property_columns_to_df(active_df)\n",
    "active_df.head()"
   ]
  },
  {
   "cell_type": "code",
   "execution_count": 6,
   "metadata": {},
   "outputs": [
    {
     "data": {
      "text/html": [
       "<div>\n",
       "<style scoped>\n",
       "    .dataframe tbody tr th:only-of-type {\n",
       "        vertical-align: middle;\n",
       "    }\n",
       "\n",
       "    .dataframe tbody tr th {\n",
       "        vertical-align: top;\n",
       "    }\n",
       "\n",
       "    .dataframe thead th {\n",
       "        text-align: right;\n",
       "    }\n",
       "</style>\n",
       "<table border=\"1\" class=\"dataframe\">\n",
       "  <thead>\n",
       "    <tr style=\"text-align: right;\">\n",
       "      <th></th>\n",
       "      <th>SMILES</th>\n",
       "      <th>ID</th>\n",
       "      <th>label</th>\n",
       "      <th>Mol</th>\n",
       "      <th>mw</th>\n",
       "      <th>logP</th>\n",
       "      <th>charge</th>\n",
       "    </tr>\n",
       "  </thead>\n",
       "  <tbody>\n",
       "    <tr>\n",
       "      <th>0</th>\n",
       "      <td>C1COCCNC(=S)NCCOCCNC(=S)N1</td>\n",
       "      <td>C03897368</td>\n",
       "      <td>Decoy</td>\n",
       "      <td>&lt;rdkit.Chem.rdchem.Mol object at 0x000002667EF...</td>\n",
       "      <td>292.430</td>\n",
       "      <td>-1.03860</td>\n",
       "      <td>0</td>\n",
       "    </tr>\n",
       "    <tr>\n",
       "      <th>1</th>\n",
       "      <td>c1cc(ccc1[C@H]2c3ccc(cc3OC(=C2C#N)N)N)O</td>\n",
       "      <td>C00242247</td>\n",
       "      <td>Decoy</td>\n",
       "      <td>&lt;rdkit.Chem.rdchem.Mol object at 0x000002667EF...</td>\n",
       "      <td>279.299</td>\n",
       "      <td>2.19258</td>\n",
       "      <td>0</td>\n",
       "    </tr>\n",
       "    <tr>\n",
       "      <th>2</th>\n",
       "      <td>C[C@]12CC[C@H](C[C@@H]1CC[C@@H]3[C@@H]2C(=O)C[...</td>\n",
       "      <td>C04096778</td>\n",
       "      <td>Decoy</td>\n",
       "      <td>&lt;rdkit.Chem.rdchem.Mol object at 0x000002667EF...</td>\n",
       "      <td>366.498</td>\n",
       "      <td>1.65330</td>\n",
       "      <td>0</td>\n",
       "    </tr>\n",
       "    <tr>\n",
       "      <th>3</th>\n",
       "      <td>Cc1ccc2c(c1)cc(c(=O)[nH]2)[C@@H]3c4c(n[nH]c4OC...</td>\n",
       "      <td>C00421469</td>\n",
       "      <td>Decoy</td>\n",
       "      <td>&lt;rdkit.Chem.rdchem.Mol object at 0x000002667EF...</td>\n",
       "      <td>333.351</td>\n",
       "      <td>2.08622</td>\n",
       "      <td>0</td>\n",
       "    </tr>\n",
       "    <tr>\n",
       "      <th>4</th>\n",
       "      <td>Cc1cc2cc(c(=O)[nH]c2cc1C)[C@@H]3c4c(n[nH]c4OC(...</td>\n",
       "      <td>C00421479</td>\n",
       "      <td>Decoy</td>\n",
       "      <td>&lt;rdkit.Chem.rdchem.Mol object at 0x000002667EF...</td>\n",
       "      <td>347.378</td>\n",
       "      <td>2.39464</td>\n",
       "      <td>0</td>\n",
       "    </tr>\n",
       "  </tbody>\n",
       "</table>\n",
       "</div>"
      ],
      "text/plain": [
       "                                              SMILES         ID  label  \\\n",
       "0                         C1COCCNC(=S)NCCOCCNC(=S)N1  C03897368  Decoy   \n",
       "1            c1cc(ccc1[C@H]2c3ccc(cc3OC(=C2C#N)N)N)O  C00242247  Decoy   \n",
       "2  C[C@]12CC[C@H](C[C@@H]1CC[C@@H]3[C@@H]2C(=O)C[...  C04096778  Decoy   \n",
       "3  Cc1ccc2c(c1)cc(c(=O)[nH]2)[C@@H]3c4c(n[nH]c4OC...  C00421469  Decoy   \n",
       "4  Cc1cc2cc(c(=O)[nH]c2cc1C)[C@@H]3c4c(n[nH]c4OC(...  C00421479  Decoy   \n",
       "\n",
       "                                                 Mol       mw     logP  charge  \n",
       "0  <rdkit.Chem.rdchem.Mol object at 0x000002667EF...  292.430 -1.03860       0  \n",
       "1  <rdkit.Chem.rdchem.Mol object at 0x000002667EF...  279.299  2.19258       0  \n",
       "2  <rdkit.Chem.rdchem.Mol object at 0x000002667EF...  366.498  1.65330       0  \n",
       "3  <rdkit.Chem.rdchem.Mol object at 0x000002667EF...  333.351  2.08622       0  \n",
       "4  <rdkit.Chem.rdchem.Mol object at 0x000002667EF...  347.378  2.39464       0  "
      ]
     },
     "execution_count": 6,
     "metadata": {},
     "output_type": "execute_result"
    }
   ],
   "source": [
    "# same for the decoy molecules\n",
    "decoy_df = pd.read_csv(\"mk01/decoys_final.ism\", header=None, sep=\" \")\n",
    "decoy_df.columns = [\"SMILES\", \"ID\"]\n",
    "decoy_rows, decoy_cols = decoy_df.shape\n",
    "decoy_df[\"label\"] = [\"Decoy\"] * decoy_rows\n",
    "PandasTools.AddMoleculeColumnToFrame(decoy_df, \"SMILES\", \"Mol\")\n",
    "add_property_columns_to_df(decoy_df)\n",
    "decoy_df.head()"
   ]
  },
  {
   "cell_type": "markdown",
   "metadata": {},
   "source": [
    "# Compare the properties"
   ]
  },
  {
   "cell_type": "code",
   "execution_count": 10,
   "metadata": {},
   "outputs": [
    {
     "data": {
      "text/plain": [
       "(4629, 8)"
      ]
     },
     "execution_count": 10,
     "metadata": {},
     "output_type": "execute_result"
    }
   ],
   "source": [
    "tmp_df = pd.concat([active_df, decoy_df])\n",
    "tmp_df.shape"
   ]
  },
  {
   "cell_type": "code",
   "execution_count": 12,
   "metadata": {},
   "outputs": [
    {
     "data": {
      "image/png": "[encoded data removed]",
      "text/plain": [
       "<Figure size 640x480 with 1 Axes>"
      ]
     },
     "metadata": {},
     "output_type": "display_data"
    }
   ],
   "source": [
    "sns.violinplot(x=tmp_df[\"label\"], y=tmp_df[\"mw\"]);"
   ]
  },
  {
   "cell_type": "code",
   "execution_count": 13,
   "metadata": {},
   "outputs": [
    {
     "data": {
      "image/png": "[encoded data removed]",
      "text/plain": [
       "<Figure size 640x480 with 1 Axes>"
      ]
     },
     "metadata": {},
     "output_type": "display_data"
    }
   ],
   "source": [
    "sns.violinplot(x=tmp_df[\"label\"],y=tmp_df[\"logP\"]);\n"
   ]
  },
  {
   "cell_type": "code",
   "execution_count": 14,
   "metadata": {},
   "outputs": [
    {
     "data": {
      "text/plain": [
       "0.16175824175824177"
      ]
     },
     "execution_count": 14,
     "metadata": {},
     "output_type": "execute_result"
    }
   ],
   "source": [
    "charged = decoy_df[decoy_df[\"charge\"] != 0]\n",
    "charged.shape[0]/decoy_df.shape[0]"
   ]
  },
  {
   "cell_type": "code",
   "execution_count": 16,
   "metadata": {},
   "outputs": [],
   "source": [
    "from neutralize import NeutraliseCharges\n",
    "\n",
    "revised_decoy_df = decoy_df[[\"SMILES\",\"ID\",\"label\"]].copy()\n",
    "revised_decoy_df[\"SMILES\"] = [NeutraliseCharges(x)[0] for x in revised_decoy_df[\"SMILES\"]]\n",
    "PandasTools.AddMoleculeColumnToFrame(revised_decoy_df,\"SMILES\",\"Mol\")\n",
    "add_property_columns_to_df(revised_decoy_df)"
   ]
  },
  {
   "cell_type": "code",
   "execution_count": 17,
   "metadata": {},
   "outputs": [],
   "source": [
    "new_tmp_df = pd.concat([active_df, revised_decoy_df])"
   ]
  },
  {
   "cell_type": "code",
   "execution_count": 18,
   "metadata": {},
   "outputs": [
    {
     "data": {
      "text/plain": [
       "<Axes: xlabel='label', ylabel='charge'>"
      ]
     },
     "execution_count": 18,
     "metadata": {},
     "output_type": "execute_result"
    },
    {
     "data": {
      "image/png": "[encoded data removed]",
      "text/plain": [
       "<Figure size 640x480 with 1 Axes>"
      ]
     },
     "metadata": {},
     "output_type": "display_data"
    }
   ],
   "source": [
    "sns.violinplot(x=new_tmp_df[\"label\"],y=new_tmp_df[\"charge\"])\n"
   ]
  },
  {
   "cell_type": "code",
   "execution_count": 19,
   "metadata": {},
   "outputs": [
    {
     "data": {
      "text/plain": [
       "0.0026373626373626374"
      ]
     },
     "execution_count": 19,
     "metadata": {},
     "output_type": "execute_result"
    }
   ],
   "source": [
    "charged = revised_decoy_df[revised_decoy_df[\"charge\"] != 0]\n",
    "charged.shape[0]/revised_decoy_df.shape[0]"
   ]
  },
  {
   "cell_type": "code",
   "execution_count": null,
   "metadata": {},
   "outputs": [],
   "source": []
  },
  {
   "cell_type": "code",
   "execution_count": 20,
   "metadata": {},
   "outputs": [
    {
     "data": {
      "text/html": [
       "<div>\n",
       "<style scoped>\n",
       "    .dataframe tbody tr th:only-of-type {\n",
       "        vertical-align: middle;\n",
       "    }\n",
       "\n",
       "    .dataframe tbody tr th {\n",
       "        vertical-align: top;\n",
       "    }\n",
       "\n",
       "    .dataframe thead th {\n",
       "        text-align: right;\n",
       "    }\n",
       "</style>\n",
       "<table border=\"1\" class=\"dataframe\">\n",
       "  <thead>\n",
       "    <tr style=\"text-align: right;\">\n",
       "      <th></th>\n",
       "      <th>SMILES</th>\n",
       "      <th>ID</th>\n",
       "      <th>is_active</th>\n",
       "    </tr>\n",
       "  </thead>\n",
       "  <tbody>\n",
       "    <tr>\n",
       "      <th>0</th>\n",
       "      <td>Cn1ccnc1Sc2ccc(cc2Cl)Nc3c4cc(c(cc4ncc3C#N)OCCC...</td>\n",
       "      <td>168691</td>\n",
       "      <td>1</td>\n",
       "    </tr>\n",
       "    <tr>\n",
       "      <th>1</th>\n",
       "      <td>C[C@@]12[C@@H]([C@@H](CC(O1)n3c4ccccc4c5c3c6n2...</td>\n",
       "      <td>86358</td>\n",
       "      <td>1</td>\n",
       "    </tr>\n",
       "    <tr>\n",
       "      <th>2</th>\n",
       "      <td>Cc1cnc(nc1c2cc([nH]c2)C(=O)N[C@H](CO)c3cccc(c3...</td>\n",
       "      <td>575087</td>\n",
       "      <td>1</td>\n",
       "    </tr>\n",
       "    <tr>\n",
       "      <th>3</th>\n",
       "      <td>Cc1cnc(nc1c2cc([nH]c2)C(=O)N[C@H](CO)c3cccc(c3...</td>\n",
       "      <td>575065</td>\n",
       "      <td>1</td>\n",
       "    </tr>\n",
       "    <tr>\n",
       "      <th>4</th>\n",
       "      <td>Cc1cnc(nc1c2cc([nH]c2)C(=O)N[C@H](CO)c3cccc(c3...</td>\n",
       "      <td>575047</td>\n",
       "      <td>1</td>\n",
       "    </tr>\n",
       "  </tbody>\n",
       "</table>\n",
       "</div>"
      ],
      "text/plain": [
       "                                              SMILES      ID  is_active\n",
       "0  Cn1ccnc1Sc2ccc(cc2Cl)Nc3c4cc(c(cc4ncc3C#N)OCCC...  168691          1\n",
       "1  C[C@@]12[C@@H]([C@@H](CC(O1)n3c4ccccc4c5c3c6n2...   86358          1\n",
       "2  Cc1cnc(nc1c2cc([nH]c2)C(=O)N[C@H](CO)c3cccc(c3...  575087          1\n",
       "3  Cc1cnc(nc1c2cc([nH]c2)C(=O)N[C@H](CO)c3cccc(c3...  575065          1\n",
       "4  Cc1cnc(nc1c2cc([nH]c2)C(=O)N[C@H](CO)c3cccc(c3...  575047          1"
      ]
     },
     "execution_count": 20,
     "metadata": {},
     "output_type": "execute_result"
    }
   ],
   "source": [
    "# write the molecules out as a csv file\n",
    "active_df[\"is_active\"] = [1] * active_df.shape[0]\n",
    "revised_decoy_df[\"is_active\"] = [0] * revised_decoy_df.shape[0]\n",
    "combined_df = pd.concat([active_df, revised_decoy_df])[[\"SMILES\",\"ID\",\"is_active\"]]\n",
    "combined_df.head()"
   ]
  },
  {
   "cell_type": "code",
   "execution_count": 21,
   "metadata": {},
   "outputs": [],
   "source": [
    "combined_df.to_csv(\"dude_erk1_mk01.csv\")"
   ]
  },
  {
   "cell_type": "code",
   "execution_count": null,
   "metadata": {},
   "outputs": [],
   "source": []
  }
 ],
 "metadata": {
  "kernelspec": {
   "display_name": "polar_duckdb_benchmarks",
   "language": "python",
   "name": "python3"
  },
  "language_info": {
   "codemirror_mode": {
    "name": "ipython",
    "version": 3
   },
   "file_extension": ".py",
   "mimetype": "text/x-python",
   "name": "python",
   "nbconvert_exporter": "python",
   "pygments_lexer": "ipython3",
   "version": "3.7.12"
  }
 },
 "nbformat": 4,
 "nbformat_minor": 2
}
